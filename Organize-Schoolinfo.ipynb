{
 "cells": [
  {
   "cell_type": "code",
   "execution_count": 1,
   "metadata": {},
   "outputs": [],
   "source": [
    "import pandas as pd \n",
    "import math as math \n",
    "import matplotlib.pyplot as plt \n",
    "import numpy as np"
   ]
  },
  {
   "cell_type": "code",
   "execution_count": 5,
   "metadata": {},
   "outputs": [],
   "source": [
    "# Here are some imports we'll use through the notebook, collected here for simplicity\n",
    "\n",
    "# For parsing dates and being able to compare\n",
    "import datetime\n",
    "\n",
    "# For fetching remote data\n",
    "import urllib\n",
    "\n",
    "# Pandas dataframes and operations\n",
    "import pandas as pd\n",
    "\n",
    "# Numpy matrix and array operations\n",
    "import numpy as np\n",
    "\n",
    "# Sqlite is a simplistic database\n",
    "import sqlite3\n",
    "\n",
    "# Data visualization\n",
    "import matplotlib\n",
    "\n",
    "#HAD ISSUES INSTALLING # Crawler for multiple web pages at once\n",
    "#import scrapy\n",
    "#from scrapy.crawler import CrawlerProcess\n",
    "# Can use dataframe.swifter.apply() instead of dataframe.apply()\n",
    "# to try to parallelize the computation!\n",
    "#import swifter\n",
    "# Approximate string matching, see \n",
    "#import py_stringsimjoin as ssj\n",
    "#import py_stringmatching as sm\n",
    "# import urllib and etree for download and parsing\n",
    "#from lxml import etree"
   ]
  },
  {
   "cell_type": "code",
   "execution_count": 6,
   "metadata": {},
   "outputs": [
    {
     "name": "stdout",
     "output_type": "stream",
     "text": [
      "<class 'pandas.core.frame.DataFrame'>\n"
     ]
    }
   ],
   "source": [
    "data = pd.read_csv('schoolInfo.json', delimiter=',')\n",
    "# DELIMITER WHAT SEPERATES THE DATA (;)\n",
    "\n",
    "print(type(data))"
   ]
  },
  {
   "cell_type": "code",
   "execution_count": 15,
   "metadata": {},
   "outputs": [
    {
     "name": "stdout",
     "output_type": "stream",
     "text": [
      "Number of rows and columns:(0, 12131)\n"
     ]
    },
    {
     "data": {
      "text/html": [
       "<div>\n",
       "<style scoped>\n",
       "    .dataframe tbody tr th:only-of-type {\n",
       "        vertical-align: middle;\n",
       "    }\n",
       "\n",
       "    .dataframe tbody tr th {\n",
       "        vertical-align: top;\n",
       "    }\n",
       "\n",
       "    .dataframe thead th {\n",
       "        text-align: right;\n",
       "    }\n",
       "</style>\n",
       "<table border=\"1\" class=\"dataframe\">\n",
       "  <thead>\n",
       "    <tr style=\"text-align: right;\">\n",
       "      <th></th>\n",
       "      <th>[{\"rankingNoteText\": null</th>\n",
       "      <th>\"nonResponderText\": null</th>\n",
       "      <th>\"nonResponder\": false</th>\n",
       "      <th>\"act-avg\": 32</th>\n",
       "      <th>\"primaryPhoto\": \"https://www.usnews.com/img/college-photo_31291.jpg\"</th>\n",
       "      <th>\"primaryPhotoThumb\": \"https://www.usnews.com/img/college-photo_31291_170x170mm.jpg\"</th>\n",
       "      <th>\"sat-avg\": 1400</th>\n",
       "      <th>\"enrollment\": 5400</th>\n",
       "      <th>\"city\": \"Princeton\"</th>\n",
       "      <th>\"sortName\": \"princetonuniversity\"</th>\n",
       "      <th>...</th>\n",
       "      <th>\"displayName\": \"Wilmington University\"</th>\n",
       "      <th>\"schoolType\": \"national-universities\".310</th>\n",
       "      <th>\"region\": null.310</th>\n",
       "      <th>\"aliasNames\": null.166</th>\n",
       "      <th>\"rankingType\": \"national-universities\".310</th>\n",
       "      <th>\"overallRank\": -2.10</th>\n",
       "      <th>\"institutionalControl\": \"private\".113</th>\n",
       "      <th>\"rankingMaxPossibleScore\": null.310</th>\n",
       "      <th>\"rankingRankStatus\": \"ur\".10</th>\n",
       "      <th>\"primaryKey\": \"7948\"}]</th>\n",
       "    </tr>\n",
       "  </thead>\n",
       "  <tbody>\n",
       "  </tbody>\n",
       "</table>\n",
       "<p>0 rows × 12131 columns</p>\n",
       "</div>"
      ],
      "text/plain": [
       "Empty DataFrame\n",
       "Columns: [[{\"rankingNoteText\": null,  \"nonResponderText\": null,  \"nonResponder\": false,  \"act-avg\": 32,  \"primaryPhoto\": \"https://www.usnews.com/img/college-photo_31291.jpg\",  \"primaryPhotoThumb\": \"https://www.usnews.com/img/college-photo_31291_170x170mm.jpg\",  \"sat-avg\": 1400,  \"enrollment\": 5400,  \"city\": \"Princeton\",  \"sortName\": \"princetonuniversity\",  \"zip\": \"08544\",  \"rankingNoteCharacter\": null,  \"acceptance-rate\": 7,  \"rankingDisplayScore\": \"100\",  \"percent-receiving-aid\": 60,  \"cost-after-aid\": 16793.0,  \"state\": \"NJ\",  \"rankingSortRank\": 1,  \"hs-gpa-avg\": 3.9,  \"urlName\": \"princeton-university\",  \"rankingDisplayName\": \"National Universities\",  \"rankingDisplayRank\": \"#1\",  \"ranking\": \"overall\",  \"xwalkId\": \"186131\",  \"rankingIsTied\": false,  \"isPublic\": true,  \"businessRepScore\": null,  \"tuition\": 47140,  \"engineeringRepScore\": 4.1,  \"displayName\": \"Princeton University\",  \"schoolType\": \"national-universities\",  \"region\": null,  \"aliasNames\": null,  \"rankingType\": \"national-universities\",  \"overallRank\": 1,  \"institutionalControl\": \"private\",  \"rankingMaxPossibleScore\": null,  \"rankingRankStatus\": \"ranked\",  \"primaryKey\": \"2627\"},  {\"rankingNoteText\": null,  \"nonResponderText\": null.1,  \"nonResponder\": false.1,  \"act-avg\": 32.1,  \"primaryPhoto\": \"https://www.usnews.com/img/college-photo_8866.jpg\",  \"primaryPhotoThumb\": \"https://www.usnews.com/img/college-photo_8866_170x170mm.jpg\",  \"sat-avg\": 1430,  \"enrollment\": 6710,  \"city\": \"Cambridge\",  \"sortName\": \"harvarduniversity\",  \"zip\": \"02138\",  \"rankingNoteCharacter\": null.1,  \"acceptance-rate\": 5,  \"rankingDisplayScore\": \"98\",  \"percent-receiving-aid\": 55,  \"cost-after-aid\": 16338.0,  \"state\": \"MA\",  \"rankingSortRank\": 2,  \"hs-gpa-avg\": 4,  \"urlName\": \"harvard-university\",  \"rankingDisplayName\": \"National Universities\".1,  \"rankingDisplayRank\": \"#2\",  \"ranking\": \"overall\".1,  \"xwalkId\": \"166027\",  \"rankingIsTied\": false.1,  \"isPublic\": true.1,  \"businessRepScore\": null.1,  \"tuition\": 48949,  \"engineeringRepScore\": 3.6,  \"displayName\": \"Harvard University\",  \"schoolType\": \"national-universities\".1,  \"region\": null.1,  \"aliasNames\": null.1,  \"rankingType\": \"national-universities\".1,  \"overallRank\": 2,  \"institutionalControl\": \"private\".1,  \"rankingMaxPossibleScore\": null.1,  \"rankingRankStatus\": \"ranked\".1,  \"primaryKey\": \"2155\"},  {\"rankingNoteText\": null.1,  \"nonResponderText\": null.2,  \"nonResponder\": false.2,  \"act-avg\": 32.2,  \"primaryPhoto\": \"https://www.usnews.com/dims4/USNEWS/5b128f0/17177859217/resize/800x540/quality/85/?url=www.usnews.com%2Fcmsmedia%2F97%2Fa2%2F70c471924fa1ae47788aafc952b4%2F160727-univerity-of-chicago-hero-stock.jpg\",  \"primaryPhotoThumb\": \"https://www.usnews.com/dims4/USNEWS/196469f/17177859217/resize/170x170/quality/85/?url=www.usnews.com%2Fcmsmedia%2F97%2Fa2%2F70c471924fa1ae47788aafc952b4%2F160727-univerity-of-chicago-hero-stock.jpg\",  \"sat-avg\": 1450,  \"enrollment\": 5941,  \"city\": \"Chicago\",  \"sortName\": \"universityofchicago\",  \"zip\": \"60637\",  \"rankingNoteCharacter\": null.2,  \"acceptance-rate\": 8,  \"rankingDisplayScore\": \"96\",  \"percent-receiving-aid\": 42,  \"cost-after-aid\": 27767.0,  \"state\": \"IL\",  \"rankingSortRank\": 3,  \"hs-gpa-avg\": 4.1,  \"urlName\": \"university-of-chicago\",  \"rankingDisplayName\": \"National Universities\".2,  \"rankingDisplayRank\": \"#3\", ...]\n",
       "Index: []\n",
       "\n",
       "[0 rows x 12131 columns]"
      ]
     },
     "execution_count": 15,
     "metadata": {},
     "output_type": "execute_result"
    }
   ],
   "source": [
    "print(\"Number of rows and columns:({}, {})\".format(data.shape[0],data.shape[1]))\n",
    "data.head(12131)\n"
   ]
  },
  {
   "cell_type": "code",
   "execution_count": 19,
   "metadata": {},
   "outputs": [
    {
     "name": "stdout",
     "output_type": "stream",
     "text": [
      "Index(['[{\"rankingNoteText\": null', ' \"nonResponderText\": null',\n",
      "       ' \"nonResponder\": false', ' \"act-avg\": 32',\n",
      "       ' \"primaryPhoto\": \"https://www.usnews.com/img/college-photo_31291.jpg\"',\n",
      "       ' \"primaryPhotoThumb\": \"https://www.usnews.com/img/college-photo_31291_170x170mm.jpg\"',\n",
      "       ' \"sat-avg\": 1400', ' \"enrollment\": 5400', ' \"city\": \"Princeton\"',\n",
      "       ' \"sortName\": \"princetonuniversity\"',\n",
      "       ...\n",
      "       ' \"displayName\": \"Wilmington University\"',\n",
      "       ' \"schoolType\": \"national-universities\".310', ' \"region\": null.310',\n",
      "       ' \"aliasNames\": null.166',\n",
      "       ' \"rankingType\": \"national-universities\".310', ' \"overallRank\": -2.10',\n",
      "       ' \"institutionalControl\": \"private\".113',\n",
      "       ' \"rankingMaxPossibleScore\": null.310', ' \"rankingRankStatus\": \"ur\".10',\n",
      "       ' \"primaryKey\": \"7948\"}]'],\n",
      "      dtype='object', length=12131)\n",
      "Index(['[{\"rankingNoteText\": null', ' \"nonResponderText\": null',\n",
      "       ' \"nonResponder\": false', ' \"act-avg\": 32',\n",
      "       ' \"primaryPhoto\": \"https://www.usnews.com/img/college-photo_31291.jpg\"',\n",
      "       ' \"primaryPhotoThumb\": \"https://www.usnews.com/img/college-photo_31291_170x170mm.jpg\"',\n",
      "       ' \"sat-avg\": 1400', ' \"enrollment\": 5400', ' \"city\": \"Princeton\"',\n",
      "       ' \"sortName\": \"princetonuniversity\"',\n",
      "       ...\n",
      "       ' \"displayName\": \"Wilmington University\"',\n",
      "       ' \"schoolType\": \"national-universities\".310', ' \"region\": null.310',\n",
      "       ' \"aliasNames\": null.166',\n",
      "       ' \"rankingType\": \"national-universities\".310', ' \"overallRank\": -2.10',\n",
      "       ' \"institutionalControl\": \"private\".113',\n",
      "       ' \"rankingMaxPossibleScore\": null.310', ' \"rankingRankStatus\": \"ur\".10',\n",
      "       ' \"primaryKey\": \"7948\"}]'],\n",
      "      dtype='object', length=12131)\n"
     ]
    }
   ],
   "source": []
  }
 ],
 "metadata": {
  "kernelspec": {
   "display_name": "Python 3",
   "language": "python",
   "name": "python3"
  },
  "language_info": {
   "codemirror_mode": {
    "name": "ipython",
    "version": 3
   },
   "file_extension": ".py",
   "mimetype": "text/x-python",
   "name": "python",
   "nbconvert_exporter": "python",
   "pygments_lexer": "ipython3",
   "version": "3.9.5"
  },
  "orig_nbformat": 4
 },
 "nbformat": 4,
 "nbformat_minor": 2
}
